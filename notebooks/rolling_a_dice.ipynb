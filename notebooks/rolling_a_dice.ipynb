{
 "cells": [
  {
   "cell_type": "code",
   "execution_count": 7,
   "id": "a4758444",
   "metadata": {},
   "outputs": [],
   "source": [
    "from random import randint\n",
    "\n",
    "class Side:\n",
    "    \"\"\"A class representing a single die\"\"\"\n",
    "    \n",
    "    def __init__(self, num_sides):\n",
    "        self.num_sides = num_sides\n",
    "        \n",
    "    def roll(self):\n",
    "        \"\"\"Return a number from 1 to 6 (Which is the number of sides)\"\"\"\n",
    "        return randint(1, self.num_sides)\n",
    "    "
   ]
  },
  {
   "cell_type": "code",
   "execution_count": 10,
   "id": "00bc7bc4",
   "metadata": {},
   "outputs": [
    {
     "name": "stdout",
     "output_type": "stream",
     "text": [
      "[5, 6, 2, 3, 3, 5, 5, 3, 1, 3, 5, 4, 1, 6, 4, 2, 3, 6, 3, 2, 2, 5, 4, 1, 6, 1, 1, 5, 1, 5, 1, 6, 4, 2, 4, 2, 3, 5, 5, 5, 1, 1, 3, 5, 5, 3, 3, 4, 2, 2, 1, 2, 3, 4, 4, 2, 6, 5, 5, 4, 2, 1, 5, 1, 3, 3, 3, 3, 5, 1, 4, 2, 1, 6, 3, 6, 6, 3, 6, 5, 2, 5, 2, 2, 5, 1, 3, 6, 5, 3, 1, 5, 3, 6, 6, 2, 2, 2, 3, 6, 2, 6, 3, 1, 1, 5, 1, 3, 2, 2, 5, 2, 4, 3, 3, 2, 6, 2, 5, 1, 6, 3, 5, 2, 3, 1, 4, 6, 6, 5, 1, 6, 1, 1, 1, 2, 4, 5, 5, 6, 2, 5, 1, 5, 5, 6, 3, 3, 4, 1, 4, 4, 3, 4, 1, 6, 6, 3, 5, 5, 1, 2, 3, 4, 4, 6, 1, 6, 3, 2, 3, 3, 4, 6, 4, 6, 4, 5, 5, 5, 6, 1, 4, 3, 6, 5, 3, 6, 2, 4, 3, 4, 3, 1, 5, 4, 5, 3, 5, 4]\n"
     ]
    }
   ],
   "source": [
    "# from die import Die\n",
    "\n",
    "# Creating a D6\n",
    "die = Side(6)\n",
    "\n",
    "# Make some rolls, and store the results\n",
    "results = []\n",
    "for ind_roll in range(200):\n",
    "    result = die.roll()\n",
    "    results.append(result)\n",
    "print(results)"
   ]
  },
  {
   "cell_type": "code",
   "execution_count": null,
   "id": "7404bbf1",
   "metadata": {},
   "outputs": [],
   "source": []
  }
 ],
 "metadata": {
  "kernelspec": {
   "display_name": "Python 3",
   "language": "python",
   "name": "python3"
  },
  "language_info": {
   "codemirror_mode": {
    "name": "ipython",
    "version": 3
   },
   "file_extension": ".py",
   "mimetype": "text/x-python",
   "name": "python",
   "nbconvert_exporter": "python",
   "pygments_lexer": "ipython3",
   "version": "3.6.10"
  }
 },
 "nbformat": 4,
 "nbformat_minor": 5
}
