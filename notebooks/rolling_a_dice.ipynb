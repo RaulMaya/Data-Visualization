{
 "cells": [
  {
   "cell_type": "code",
   "execution_count": 7,
   "id": "b871dd58",
   "metadata": {},
   "outputs": [],
   "source": [
    "from random import randint\n",
    "\n",
    "class Side:\n",
    "    \"\"\"A class representing a single die\"\"\"\n",
    "    \n",
    "    def __init__(self, num_sides):\n",
    "        self.num_sides = num_sides\n",
    "        \n",
    "    def roll(self):\n",
    "        \"\"\"Return a number from 1 to 6 (Which is the number of sides)\"\"\"\n",
    "        return randint(1, self.num_sides)\n",
    "    "
   ]
  },
  {
   "cell_type": "code",
   "execution_count": 17,
   "id": "d3e1fea8",
   "metadata": {},
   "outputs": [
    {
     "name": "stdout",
     "output_type": "stream",
     "text": [
      "[254, 236, 262, 250, 256, 242]\n"
     ]
    },
    {
     "data": {
      "text/plain": [
       "'six_sided.html'"
      ]
     },
     "execution_count": 17,
     "metadata": {},
     "output_type": "execute_result"
    }
   ],
   "source": [
    "# Creating a histogram\n",
    "from plotly.graph_objs import Bar, Layout\n",
    "from plotly import offline\n",
    "\n",
    "# from die import Die\n",
    "\n",
    "# Creating a D6\n",
    "die = Side(6)\n",
    "\n",
    "# Make some rolls, and store the results\n",
    "results = []\n",
    "for ind_roll in range(1500):\n",
    "    result = die.roll()\n",
    "    results.append(result)\n",
    "\n",
    "# Reviewing the results\n",
    "frec = []\n",
    "for value in range(1, die.num_sides + 1):\n",
    "    frecuency = results.count(value)\n",
    "    frec.append(frecuency)\n",
    "print(frec)\n",
    "\n",
    "# Feeding the histogram\n",
    "x_values = list(range(1, die.num_sides+1))\n",
    "data = [Bar(x=x_values, y=frec)]\n",
    "\n",
    "x_axis_config = {'title':'Dice Individual Value'}\n",
    "y_axis_config = {'title':'Frecuency of Individual Value'}\n",
    "\n",
    "my_hist = Layout(title='Output of Rolling One 6-Sided Dice 1500 Times', xaxis = x_axis_config, yaxis = y_axis_config)\n",
    "offline.plot({'data':data, 'layout':my_hist}, filename = 'six_sided.html')"
   ]
  },
  {
   "cell_type": "code",
   "execution_count": null,
   "id": "0c5dab8c",
   "metadata": {},
   "outputs": [],
   "source": [
    "\n",
    "\n"
   ]
  }
 ],
 "metadata": {
  "kernelspec": {
   "display_name": "Python 3",
   "language": "python",
   "name": "python3"
  },
  "language_info": {
   "codemirror_mode": {
    "name": "ipython",
    "version": 3
   },
   "file_extension": ".py",
   "mimetype": "text/x-python",
   "name": "python",
   "nbconvert_exporter": "python",
   "pygments_lexer": "ipython3",
   "version": "3.6.10"
  }
 },
 "nbformat": 4,
 "nbformat_minor": 5
}
